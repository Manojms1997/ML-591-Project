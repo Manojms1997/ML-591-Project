{
  "nbformat": 4,
  "nbformat_minor": 0,
  "metadata": {
    "colab": {
      "provenance": []
    },
    "kernelspec": {
      "name": "python3",
      "display_name": "Python 3"
    },
    "language_info": {
      "name": "python"
    },
    "accelerator": "GPU",
    "gpuClass": "standard"
  },
  "cells": [
    {
      "cell_type": "code",
      "execution_count": 2,
      "metadata": {
        "colab": {
          "base_uri": "https://localhost:8080/"
        },
        "id": "3RusiIQGRNsy",
        "outputId": "592d1bfe-8b57-42cf-a3d9-b90f151e8b6b"
      },
      "outputs": [
        {
          "output_type": "stream",
          "name": "stdout",
          "text": [
            "Mounted at /content/drive\n"
          ]
        }
      ],
      "source": [
        "from google.colab import drive\n",
        "drive.mount('/content/drive')"
      ]
    },
    {
      "cell_type": "code",
      "source": [
        "!ls \"/content/drive/My Drive/\""
      ],
      "metadata": {
        "colab": {
          "base_uri": "https://localhost:8080/"
        },
        "id": "45iZ3ZwPSsNT",
        "outputId": "ceee7335-8b76-47d9-c372-29998e32d105"
      },
      "execution_count": 2,
      "outputs": [
        {
          "output_type": "stream",
          "name": "stdout",
          "text": [
            "'1222220922 CENCS.gdoc'\n",
            "'Colab Notebooks'\n",
            "'Copy of Hacks for Humanity Finalist Certificate.gslides'\n",
            " DATA\n",
            " hrt\n",
            "'Questions 5'\n",
            " sign-upload.zip\n",
            "'WhatsApp Image 2022-08-08 at 6.42.01 PM (3).jpeg'\n",
            "'WhatsApp Image 2022-08-08 at 6.42.01 PM.jpeg'\n",
            " wordVideoUploader.apk\n",
            " WordVideoUploader.zip\n"
          ]
        }
      ]
    },
    {
      "cell_type": "code",
      "source": [
        "!ls \"/content/drive/My Drive/DATA\""
      ],
      "metadata": {
        "colab": {
          "base_uri": "https://localhost:8080/"
        },
        "id": "6DWZxiw5S2g-",
        "outputId": "659f89cd-114d-47ab-cfd5-01d8f87e4e28"
      },
      "execution_count": 3,
      "outputs": [
        {
          "output_type": "stream",
          "name": "stdout",
          "text": [
            "OUTPUT_DIR  TEST_DIR  TRAIN_DIR\n"
          ]
        }
      ]
    },
    {
      "cell_type": "code",
      "source": [
        "import tensorflow as tf \n",
        "import numpy as np\n",
        "\n",
        "input_shape = (224,224,3)\n",
        "classes = 2\n",
        "classifier_activation='softmax'\n",
        "learning_rate = 0.0001\n",
        "batch_size = 8\n",
        "epochs = 80\n",
        "DESTINATION = \"/content/drive/My Drive/DATA/OUTPUT_DIR\"\n",
        "\n",
        "train_image_path = DESTINATION + \"/New_train_images.npy\"   \n",
        "train_labels_path = DESTINATION + \"/New_train_labels.npy\"   \n",
        "test_image_path = DESTINATION + \"/New_test_images.npy\"\n",
        "test_labels_path = DESTINATION + \"/New_test_labels.npy\"\n",
        "x_train = np.load(train_image_path)\n",
        "y_train = np.load(train_labels_path)\n",
        "x_test = np.load(test_image_path)\n",
        "y_test = np.load(test_labels_path)\n",
        "\n",
        "base_model = tf.keras.applications.VGG19(weights = None, include_top = False, input_shape = input_shape)\n",
        "x = base_model.output         \n",
        "x = tf.keras.layers.GlobalAveragePooling2D()(x)\n",
        "output = tf.keras.layers.Dense(classes, activation=classifier_activation)(x)\n",
        "\n",
        "model = tf.keras.Model(inputs = base_model.input, outputs = output)\n",
        "\n",
        "optimizer = tf.keras.optimizers.Adam(learning_rate = learning_rate, beta_1=0.9, beta_2=0.999, epsilon=1e-07)\n",
        "\n",
        "model.compile(optimizer = optimizer,\n",
        "                loss = tf.keras.losses.SparseCategoricalCrossentropy(from_logits=True),\n",
        "                metrics = ['accuracy'])\n",
        "    \n",
        "results = model.fit(x_train, y_train, epochs = epochs,\n",
        "                    validation_data = (x_test, y_test), \n",
        "                    batch_size=batch_size, \n",
        "                    callbacks = None\n",
        "                    )\n",
        "\n",
        "#losses = pd.DataFrame(model.history.history)\n",
        "#losses[['loss','val_loss']].plot()\n",
        "\n",
        "save_model = \"/content/drive/My Drive/DATA/\"\n",
        "model.save(save_model)\n"
      ],
      "metadata": {
        "colab": {
          "base_uri": "https://localhost:8080/"
        },
        "id": "-Pr3CnzCTCvo",
        "outputId": "a0effdaf-1856-4d8b-d475-c2ae221306f1"
      },
      "execution_count": 4,
      "outputs": [
        {
          "output_type": "stream",
          "name": "stdout",
          "text": [
            "Epoch 1/80\n",
            "77/77 [==============================] - 18s 221ms/step - loss: 0.6652 - accuracy: 0.7581 - val_loss: 0.5246 - val_accuracy: 0.8058\n",
            "Epoch 2/80\n",
            "77/77 [==============================] - 17s 221ms/step - loss: 0.3910 - accuracy: 0.8393 - val_loss: 0.7300 - val_accuracy: 0.4532\n",
            "Epoch 3/80\n",
            "77/77 [==============================] - 17s 216ms/step - loss: 0.3564 - accuracy: 0.7922 - val_loss: 0.1895 - val_accuracy: 0.9532\n",
            "Epoch 4/80\n",
            "77/77 [==============================] - 16s 213ms/step - loss: 0.1804 - accuracy: 0.9221 - val_loss: 0.0501 - val_accuracy: 1.0000\n",
            "Epoch 5/80\n",
            "77/77 [==============================] - 16s 212ms/step - loss: 0.1653 - accuracy: 0.9334 - val_loss: 0.0838 - val_accuracy: 1.0000\n",
            "Epoch 6/80\n",
            "77/77 [==============================] - 16s 214ms/step - loss: 0.1313 - accuracy: 0.9448 - val_loss: 0.0639 - val_accuracy: 0.9676\n",
            "Epoch 7/80\n",
            "77/77 [==============================] - 17s 216ms/step - loss: 0.1117 - accuracy: 0.9464 - val_loss: 0.0290 - val_accuracy: 1.0000\n",
            "Epoch 8/80\n",
            "77/77 [==============================] - 16s 214ms/step - loss: 0.1095 - accuracy: 0.9448 - val_loss: 0.0322 - val_accuracy: 0.9964\n",
            "Epoch 9/80\n",
            "77/77 [==============================] - 16s 214ms/step - loss: 0.1130 - accuracy: 0.9481 - val_loss: 0.1187 - val_accuracy: 0.9748\n",
            "Epoch 10/80\n",
            "77/77 [==============================] - 16s 214ms/step - loss: 0.1264 - accuracy: 0.9383 - val_loss: 0.0175 - val_accuracy: 0.9964\n",
            "Epoch 11/80\n",
            "77/77 [==============================] - 16s 213ms/step - loss: 0.1190 - accuracy: 0.9464 - val_loss: 0.0296 - val_accuracy: 1.0000\n",
            "Epoch 12/80\n",
            "77/77 [==============================] - 16s 214ms/step - loss: 0.1236 - accuracy: 0.9448 - val_loss: 0.0426 - val_accuracy: 0.9964\n",
            "Epoch 13/80\n",
            "77/77 [==============================] - 16s 214ms/step - loss: 0.1370 - accuracy: 0.9383 - val_loss: 0.0376 - val_accuracy: 1.0000\n",
            "Epoch 14/80\n",
            "77/77 [==============================] - 16s 214ms/step - loss: 0.2212 - accuracy: 0.8831 - val_loss: 0.0179 - val_accuracy: 1.0000\n",
            "Epoch 15/80\n",
            "77/77 [==============================] - 16s 213ms/step - loss: 0.1227 - accuracy: 0.9351 - val_loss: 0.0370 - val_accuracy: 1.0000\n",
            "Epoch 16/80\n",
            "77/77 [==============================] - 16s 212ms/step - loss: 0.1163 - accuracy: 0.9383 - val_loss: 0.0532 - val_accuracy: 1.0000\n",
            "Epoch 17/80\n",
            "77/77 [==============================] - 16s 212ms/step - loss: 0.1483 - accuracy: 0.9302 - val_loss: 0.0473 - val_accuracy: 1.0000\n",
            "Epoch 18/80\n",
            "77/77 [==============================] - 16s 212ms/step - loss: 0.1080 - accuracy: 0.9432 - val_loss: 0.0139 - val_accuracy: 1.0000\n",
            "Epoch 19/80\n",
            "77/77 [==============================] - 16s 213ms/step - loss: 0.1013 - accuracy: 0.9513 - val_loss: 0.0144 - val_accuracy: 1.0000\n",
            "Epoch 20/80\n",
            "77/77 [==============================] - 16s 212ms/step - loss: 0.0962 - accuracy: 0.9545 - val_loss: 0.0188 - val_accuracy: 1.0000\n",
            "Epoch 21/80\n",
            "77/77 [==============================] - 16s 212ms/step - loss: 0.1119 - accuracy: 0.9578 - val_loss: 0.0121 - val_accuracy: 1.0000\n",
            "Epoch 22/80\n",
            "77/77 [==============================] - 16s 212ms/step - loss: 0.0966 - accuracy: 0.9562 - val_loss: 0.0133 - val_accuracy: 1.0000\n",
            "Epoch 23/80\n",
            "77/77 [==============================] - 16s 212ms/step - loss: 0.0838 - accuracy: 0.9610 - val_loss: 0.0311 - val_accuracy: 0.9892\n",
            "Epoch 24/80\n",
            "77/77 [==============================] - 16s 215ms/step - loss: 0.0721 - accuracy: 0.9708 - val_loss: 0.0312 - val_accuracy: 0.9892\n",
            "Epoch 25/80\n",
            "77/77 [==============================] - 16s 212ms/step - loss: 0.0918 - accuracy: 0.9627 - val_loss: 0.0153 - val_accuracy: 0.9820\n",
            "Epoch 26/80\n",
            "77/77 [==============================] - 16s 211ms/step - loss: 0.0585 - accuracy: 0.9805 - val_loss: 0.0066 - val_accuracy: 1.0000\n",
            "Epoch 27/80\n",
            "77/77 [==============================] - 16s 211ms/step - loss: 0.0982 - accuracy: 0.9708 - val_loss: 0.0368 - val_accuracy: 0.9856\n",
            "Epoch 28/80\n",
            "77/77 [==============================] - 16s 211ms/step - loss: 0.0982 - accuracy: 0.9562 - val_loss: 0.0251 - val_accuracy: 0.9928\n",
            "Epoch 29/80\n",
            "77/77 [==============================] - 16s 211ms/step - loss: 0.0650 - accuracy: 0.9740 - val_loss: 0.2324 - val_accuracy: 0.9640\n",
            "Epoch 30/80\n",
            "77/77 [==============================] - 16s 210ms/step - loss: 0.0863 - accuracy: 0.9627 - val_loss: 0.0233 - val_accuracy: 0.9928\n",
            "Epoch 31/80\n",
            "77/77 [==============================] - 16s 211ms/step - loss: 0.1224 - accuracy: 0.9562 - val_loss: 0.0225 - val_accuracy: 0.9964\n",
            "Epoch 32/80\n",
            "77/77 [==============================] - 16s 211ms/step - loss: 0.0567 - accuracy: 0.9740 - val_loss: 0.0140 - val_accuracy: 1.0000\n",
            "Epoch 33/80\n",
            "77/77 [==============================] - 16s 211ms/step - loss: 0.0629 - accuracy: 0.9740 - val_loss: 0.0271 - val_accuracy: 0.9856\n",
            "Epoch 34/80\n",
            "77/77 [==============================] - 16s 214ms/step - loss: 0.0502 - accuracy: 0.9756 - val_loss: 0.0022 - val_accuracy: 1.0000\n",
            "Epoch 35/80\n",
            "77/77 [==============================] - 16s 211ms/step - loss: 0.0337 - accuracy: 0.9870 - val_loss: 0.0066 - val_accuracy: 1.0000\n",
            "Epoch 36/80\n",
            "77/77 [==============================] - 16s 211ms/step - loss: 0.0319 - accuracy: 0.9886 - val_loss: 0.0011 - val_accuracy: 1.0000\n",
            "Epoch 37/80\n",
            "77/77 [==============================] - 16s 211ms/step - loss: 0.0650 - accuracy: 0.9708 - val_loss: 0.0084 - val_accuracy: 1.0000\n",
            "Epoch 38/80\n",
            "77/77 [==============================] - 16s 210ms/step - loss: 0.0529 - accuracy: 0.9870 - val_loss: 0.0855 - val_accuracy: 0.9424\n",
            "Epoch 39/80\n",
            "77/77 [==============================] - 16s 211ms/step - loss: 0.3392 - accuracy: 0.9205 - val_loss: 0.2243 - val_accuracy: 0.9532\n",
            "Epoch 40/80\n",
            "77/77 [==============================] - 16s 209ms/step - loss: 0.1899 - accuracy: 0.9107 - val_loss: 0.0559 - val_accuracy: 0.9964\n",
            "Epoch 41/80\n",
            "77/77 [==============================] - 16s 212ms/step - loss: 0.0952 - accuracy: 0.9545 - val_loss: 0.0254 - val_accuracy: 0.9964\n",
            "Epoch 42/80\n",
            "77/77 [==============================] - 16s 212ms/step - loss: 0.0979 - accuracy: 0.9562 - val_loss: 0.0133 - val_accuracy: 0.9964\n",
            "Epoch 43/80\n",
            "77/77 [==============================] - 16s 209ms/step - loss: 0.0791 - accuracy: 0.9659 - val_loss: 0.0158 - val_accuracy: 0.9964\n",
            "Epoch 44/80\n",
            "77/77 [==============================] - 16s 210ms/step - loss: 0.0715 - accuracy: 0.9594 - val_loss: 0.0293 - val_accuracy: 0.9964\n",
            "Epoch 45/80\n",
            "77/77 [==============================] - 16s 210ms/step - loss: 0.0529 - accuracy: 0.9789 - val_loss: 0.0054 - val_accuracy: 0.9964\n",
            "Epoch 46/80\n",
            "77/77 [==============================] - 16s 210ms/step - loss: 0.0653 - accuracy: 0.9692 - val_loss: 0.0153 - val_accuracy: 0.9964\n",
            "Epoch 47/80\n",
            "77/77 [==============================] - 16s 210ms/step - loss: 0.0451 - accuracy: 0.9805 - val_loss: 0.0248 - val_accuracy: 0.9964\n",
            "Epoch 48/80\n",
            "77/77 [==============================] - 16s 210ms/step - loss: 0.1049 - accuracy: 0.9529 - val_loss: 0.0136 - val_accuracy: 0.9964\n",
            "Epoch 49/80\n",
            "77/77 [==============================] - 16s 210ms/step - loss: 0.0588 - accuracy: 0.9724 - val_loss: 0.0049 - val_accuracy: 0.9964\n",
            "Epoch 50/80\n",
            "77/77 [==============================] - 16s 210ms/step - loss: 0.0506 - accuracy: 0.9773 - val_loss: 0.0063 - val_accuracy: 0.9964\n",
            "Epoch 51/80\n",
            "77/77 [==============================] - 16s 209ms/step - loss: 0.0425 - accuracy: 0.9773 - val_loss: 0.0106 - val_accuracy: 0.9964\n",
            "Epoch 52/80\n",
            "77/77 [==============================] - 16s 209ms/step - loss: 0.0299 - accuracy: 0.9870 - val_loss: 0.0036 - val_accuracy: 0.9964\n",
            "Epoch 53/80\n",
            "77/77 [==============================] - 16s 209ms/step - loss: 0.0225 - accuracy: 0.9935 - val_loss: 0.0104 - val_accuracy: 0.9964\n",
            "Epoch 54/80\n",
            "77/77 [==============================] - 16s 209ms/step - loss: 0.0447 - accuracy: 0.9789 - val_loss: 0.0051 - val_accuracy: 1.0000\n",
            "Epoch 55/80\n",
            "77/77 [==============================] - 16s 209ms/step - loss: 0.0300 - accuracy: 0.9854 - val_loss: 0.0105 - val_accuracy: 0.9964\n",
            "Epoch 56/80\n",
            "77/77 [==============================] - 16s 209ms/step - loss: 0.0608 - accuracy: 0.9773 - val_loss: 0.1213 - val_accuracy: 0.9496\n",
            "Epoch 57/80\n",
            "77/77 [==============================] - 16s 209ms/step - loss: 0.0572 - accuracy: 0.9675 - val_loss: 0.0109 - val_accuracy: 0.9964\n",
            "Epoch 58/80\n",
            "77/77 [==============================] - 16s 208ms/step - loss: 0.0279 - accuracy: 0.9854 - val_loss: 0.0135 - val_accuracy: 0.9964\n",
            "Epoch 59/80\n",
            "77/77 [==============================] - 16s 208ms/step - loss: 0.0152 - accuracy: 0.9951 - val_loss: 0.0083 - val_accuracy: 0.9964\n",
            "Epoch 60/80\n",
            "77/77 [==============================] - 16s 208ms/step - loss: 0.0056 - accuracy: 1.0000 - val_loss: 0.0177 - val_accuracy: 0.9964\n",
            "Epoch 61/80\n",
            "77/77 [==============================] - 16s 208ms/step - loss: 0.0019 - accuracy: 1.0000 - val_loss: 0.0232 - val_accuracy: 0.9964\n",
            "Epoch 62/80\n",
            "77/77 [==============================] - 16s 208ms/step - loss: 5.3929e-04 - accuracy: 1.0000 - val_loss: 0.0283 - val_accuracy: 0.9964\n",
            "Epoch 63/80\n",
            "77/77 [==============================] - 16s 208ms/step - loss: 3.5937e-04 - accuracy: 1.0000 - val_loss: 0.0237 - val_accuracy: 0.9964\n",
            "Epoch 64/80\n",
            "77/77 [==============================] - 16s 209ms/step - loss: 1.6503e-04 - accuracy: 1.0000 - val_loss: 0.0256 - val_accuracy: 0.9964\n",
            "Epoch 65/80\n",
            "77/77 [==============================] - 16s 208ms/step - loss: 9.2668e-05 - accuracy: 1.0000 - val_loss: 0.0275 - val_accuracy: 0.9964\n",
            "Epoch 66/80\n",
            "77/77 [==============================] - 16s 208ms/step - loss: 5.6839e-05 - accuracy: 1.0000 - val_loss: 0.0278 - val_accuracy: 0.9964\n",
            "Epoch 67/80\n",
            "77/77 [==============================] - 16s 208ms/step - loss: 3.9553e-05 - accuracy: 1.0000 - val_loss: 0.0252 - val_accuracy: 0.9964\n",
            "Epoch 68/80\n",
            "77/77 [==============================] - 16s 212ms/step - loss: 2.9292e-05 - accuracy: 1.0000 - val_loss: 0.0268 - val_accuracy: 0.9964\n",
            "Epoch 69/80\n",
            "77/77 [==============================] - 16s 209ms/step - loss: 1.9696e-05 - accuracy: 1.0000 - val_loss: 0.0288 - val_accuracy: 0.9964\n",
            "Epoch 70/80\n",
            "77/77 [==============================] - 16s 208ms/step - loss: 1.6429e-05 - accuracy: 1.0000 - val_loss: 0.0305 - val_accuracy: 0.9964\n",
            "Epoch 71/80\n",
            "77/77 [==============================] - 16s 208ms/step - loss: 1.0737e-05 - accuracy: 1.0000 - val_loss: 0.0294 - val_accuracy: 0.9964\n",
            "Epoch 72/80\n",
            "77/77 [==============================] - 16s 208ms/step - loss: 8.8057e-06 - accuracy: 1.0000 - val_loss: 0.0313 - val_accuracy: 0.9964\n",
            "Epoch 73/80\n",
            "77/77 [==============================] - 16s 208ms/step - loss: 6.8018e-06 - accuracy: 1.0000 - val_loss: 0.0334 - val_accuracy: 0.9964\n",
            "Epoch 74/80\n",
            "77/77 [==============================] - 16s 208ms/step - loss: 5.1973e-06 - accuracy: 1.0000 - val_loss: 0.0314 - val_accuracy: 0.9964\n",
            "Epoch 75/80\n",
            "77/77 [==============================] - 16s 208ms/step - loss: 4.3455e-06 - accuracy: 1.0000 - val_loss: 0.0329 - val_accuracy: 0.9964\n",
            "Epoch 76/80\n",
            "77/77 [==============================] - 16s 208ms/step - loss: 3.5533e-06 - accuracy: 1.0000 - val_loss: 0.0325 - val_accuracy: 0.9964\n",
            "Epoch 77/80\n",
            "77/77 [==============================] - 16s 208ms/step - loss: 2.9444e-06 - accuracy: 1.0000 - val_loss: 0.0344 - val_accuracy: 0.9964\n",
            "Epoch 78/80\n",
            "77/77 [==============================] - 16s 208ms/step - loss: 2.4635e-06 - accuracy: 1.0000 - val_loss: 0.0333 - val_accuracy: 0.9964\n",
            "Epoch 79/80\n",
            "77/77 [==============================] - 16s 208ms/step - loss: 2.2178e-06 - accuracy: 1.0000 - val_loss: 0.0337 - val_accuracy: 0.9964\n",
            "Epoch 80/80\n",
            "77/77 [==============================] - 16s 208ms/step - loss: 1.9403e-06 - accuracy: 1.0000 - val_loss: 0.0346 - val_accuracy: 0.9964\n"
          ]
        },
        {
          "output_type": "stream",
          "name": "stderr",
          "text": [
            "WARNING:absl:Found untraced functions such as _jit_compiled_convolution_op, _jit_compiled_convolution_op, _jit_compiled_convolution_op, _jit_compiled_convolution_op, _jit_compiled_convolution_op while saving (showing 5 of 16). These functions will not be directly callable after loading.\n"
          ]
        }
      ]
    }
  ]
}
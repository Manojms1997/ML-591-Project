{
  "nbformat": 4,
  "nbformat_minor": 0,
  "metadata": {
    "colab": {
      "provenance": []
    },
    "kernelspec": {
      "name": "python3",
      "display_name": "Python 3"
    },
    "language_info": {
      "name": "python"
    },
    "accelerator": "GPU",
    "gpuClass": "standard"
  },
  "cells": [
    {
      "cell_type": "code",
      "execution_count": null,
      "metadata": {
        "colab": {
          "base_uri": "https://localhost:8080/"
        },
        "id": "3RusiIQGRNsy",
        "outputId": "58c52046-6a67-400d-a761-70c689a33915"
      },
      "outputs": [
        {
          "output_type": "stream",
          "name": "stdout",
          "text": [
            "Mounted at /content/drive\n"
          ]
        }
      ],
      "source": [
        "from google.colab import drive\n",
        "drive.mount('/content/drive')"
      ]
    },
    {
      "cell_type": "code",
      "source": [
        "!ls \"/content/drive/My Drive/\""
      ],
      "metadata": {
        "colab": {
          "base_uri": "https://localhost:8080/"
        },
        "id": "45iZ3ZwPSsNT",
        "outputId": "7b91c2fb-9d53-4527-82ed-7d6a1733969f"
      },
      "execution_count": null,
      "outputs": [
        {
          "output_type": "stream",
          "name": "stdout",
          "text": [
            " AmpereFormMutualConfidentialityAgreementNDA.pdf\n",
            "'ANC Project'\n",
            "'CPT email Apple.png'\n",
            " FOA\n",
            " FOA_MIDTERM1_POOJA_YADAV.pdf\n",
            "'I-20 09-26-2022.pdf'\n",
            "'midterm 1.pdf'\n",
            " Midterm.pdf\n",
            " MLFPGA\n",
            " RST\n",
            " Team3_YADAV_covid_detection_Progress_report_2.docx\n",
            " Team3_YADAV_Progress_report_1.docx\n",
            " Untitled0.ipynb\n",
            " vaccination-certificate-86639008606870.pdf\n",
            " webrep.pdf\n",
            " YADAVPOOJA11102021TaxDocs.pdf\n",
            " YADAVPOOJA9232021TaxDocs.pdf\n"
          ]
        }
      ]
    },
    {
      "cell_type": "code",
      "source": [
        "!ls \"/content/drive/MyDrive/MLFPGA/MLFPGA_Proj/DATA\""
      ],
      "metadata": {
        "colab": {
          "base_uri": "https://localhost:8080/"
        },
        "id": "6DWZxiw5S2g-",
        "outputId": "ad07adf7-1e58-4eb6-d79f-ad5b604be81f"
      },
      "execution_count": null,
      "outputs": [
        {
          "output_type": "stream",
          "name": "stdout",
          "text": [
            "assets\t\t   OUTPUT_DIR\t   TEST_DIR   variables\n",
            "keras_metadata.pb  saved_model.pb  TRAIN_DIR\n"
          ]
        }
      ]
    },
    {
      "cell_type": "code",
      "source": [
        "import tensorflow as tf \n",
        "from tensorflow.keras.applications import ResNet50V2\n",
        "import numpy as np\n",
        "from sklearn.model_selection import train_test_split\n",
        "\n",
        "input_shape = (224,224,3)\n",
        "classes = 2\n",
        "classifier_activation='softmax'\n",
        "learning_rate = 0.0001\n",
        "batch_size = 8\n",
        "epochs = 50\n",
        "DESTINATION = \"/content/drive/MyDrive/MLFPGA/MLFPGA_Proj/DATA/OUTPUT_DIR/\"\n",
        "\n",
        "train_image_path = DESTINATION + \"/New_train_images.npy\"   \n",
        "train_labels_path = DESTINATION + \"/New_train_labels.npy\"   \n",
        "test_image_path = DESTINATION + \"/New_test_images.npy\"\n",
        "test_labels_path = DESTINATION + \"/New_test_labels.npy\"\n",
        "x_train = np.load(train_image_path)\n",
        "y_train = np.load(train_labels_path)\n",
        "x_test = np.load(test_image_path)\n",
        "y_test = np.load(test_labels_path)\n",
        "\n",
        "base_model = ResNet50V2(weights = None, include_top = False, input_shape = input_shape)\n",
        "x = base_model.output         \n",
        "x = tf.keras.layers.GlobalAveragePooling2D()(x)\n",
        "output = tf.keras.layers.Dense(classes, activation=classifier_activation)(x)\n",
        "\n",
        "model = tf.keras.Model(inputs = base_model.input, outputs = output)\n",
        "\n",
        "optimizer = tf.keras.optimizers.Adam(learning_rate = learning_rate, beta_1=0.9, beta_2=0.999, epsilon=1e-07)\n",
        "\n",
        "model.compile(optimizer = optimizer,\n",
        "                loss = tf.keras.losses.SparseCategoricalCrossentropy(from_logits=True),\n",
        "                metrics = ['accuracy'])\n",
        "    \n",
        "\n",
        "\n",
        "X_train_train, X_train_val, y_train_train, y_train_val = train_test_split(x_train, y_train, test_size=0.20, random_state=1)\n",
        "\n",
        "print(f\"Sizes: {X_train_train.shape}, {X_train_val.shape}\")\n",
        "\n",
        "results = model.fit(X_train_train, y_train_train, epochs = epochs,\n",
        "                    validation_data = (X_train_val, y_train_val), \n",
        "                    batch_size=batch_size, \n",
        "                    callbacks = None\n",
        "                    )\n",
        "\n",
        "#losses = pd.DataFrame(model.history.history)\n",
        "#losses[['loss','val_loss']].plot()\n",
        "\n",
        "save_model = \"/content/drive/MyDrive/MLFPGA/MLFPGA_Proj/model_test/\"\n",
        "model.save(save_model)\n"
      ],
      "metadata": {
        "colab": {
          "base_uri": "https://localhost:8080/"
        },
        "id": "-Pr3CnzCTCvo",
        "outputId": "ab9f1b32-2755-4ebc-f44a-7a472d62658c"
      },
      "execution_count": null,
      "outputs": [
        {
          "output_type": "stream",
          "name": "stdout",
          "text": [
            "Sizes: (492, 224, 224, 3), (124, 224, 224, 3)\n",
            "Epoch 1/50\n"
          ]
        },
        {
          "output_type": "stream",
          "name": "stderr",
          "text": [
            "/usr/local/lib/python3.7/dist-packages/tensorflow/python/util/dispatch.py:1082: UserWarning: \"`sparse_categorical_crossentropy` received `from_logits=True`, but the `output` argument was produced by a sigmoid or softmax activation and thus does not represent logits. Was this intended?\"\n",
            "  return dispatch_target(*args, **kwargs)\n"
          ]
        },
        {
          "output_type": "stream",
          "name": "stdout",
          "text": [
            "62/62 [==============================] - 12s 118ms/step - loss: 0.3519 - accuracy: 0.9106 - val_loss: 1.0913 - val_accuracy: 0.7581\n",
            "Epoch 2/50\n",
            "62/62 [==============================] - 6s 102ms/step - loss: 0.1642 - accuracy: 0.9390 - val_loss: 2.2383 - val_accuracy: 0.7581\n",
            "Epoch 3/50\n",
            "62/62 [==============================] - 7s 106ms/step - loss: 0.1874 - accuracy: 0.9329 - val_loss: 2.3917 - val_accuracy: 0.7581\n",
            "Epoch 4/50\n",
            "62/62 [==============================] - 6s 102ms/step - loss: 0.1433 - accuracy: 0.9553 - val_loss: 2.9087 - val_accuracy: 0.7581\n",
            "Epoch 5/50\n",
            "62/62 [==============================] - 6s 101ms/step - loss: 0.1301 - accuracy: 0.9553 - val_loss: 2.9170 - val_accuracy: 0.7581\n",
            "Epoch 6/50\n",
            "62/62 [==============================] - 6s 102ms/step - loss: 0.0621 - accuracy: 0.9776 - val_loss: 1.1463 - val_accuracy: 0.7581\n",
            "Epoch 7/50\n",
            "62/62 [==============================] - 6s 100ms/step - loss: 0.0740 - accuracy: 0.9756 - val_loss: 0.1920 - val_accuracy: 0.9113\n",
            "Epoch 8/50\n",
            "62/62 [==============================] - 6s 100ms/step - loss: 0.0874 - accuracy: 0.9553 - val_loss: 0.4922 - val_accuracy: 0.8065\n",
            "Epoch 9/50\n",
            "62/62 [==============================] - 6s 102ms/step - loss: 0.0311 - accuracy: 0.9919 - val_loss: 0.1112 - val_accuracy: 0.9597\n",
            "Epoch 10/50\n",
            "62/62 [==============================] - 6s 99ms/step - loss: 0.0595 - accuracy: 0.9756 - val_loss: 0.0329 - val_accuracy: 1.0000\n",
            "Epoch 11/50\n",
            "62/62 [==============================] - 6s 99ms/step - loss: 0.0505 - accuracy: 0.9858 - val_loss: 0.0295 - val_accuracy: 0.9919\n",
            "Epoch 12/50\n",
            "62/62 [==============================] - 6s 101ms/step - loss: 0.0822 - accuracy: 0.9756 - val_loss: 0.1995 - val_accuracy: 0.9355\n",
            "Epoch 13/50\n",
            "62/62 [==============================] - 6s 100ms/step - loss: 0.0242 - accuracy: 0.9919 - val_loss: 0.0286 - val_accuracy: 0.9919\n",
            "Epoch 14/50\n",
            "62/62 [==============================] - 6s 100ms/step - loss: 0.0356 - accuracy: 0.9878 - val_loss: 0.0216 - val_accuracy: 1.0000\n",
            "Epoch 15/50\n",
            "62/62 [==============================] - 6s 100ms/step - loss: 0.0120 - accuracy: 0.9959 - val_loss: 0.0059 - val_accuracy: 1.0000\n",
            "Epoch 16/50\n",
            "62/62 [==============================] - 6s 100ms/step - loss: 0.0060 - accuracy: 1.0000 - val_loss: 0.0118 - val_accuracy: 1.0000\n",
            "Epoch 17/50\n",
            "62/62 [==============================] - 6s 100ms/step - loss: 0.0033 - accuracy: 1.0000 - val_loss: 6.7812e-04 - val_accuracy: 1.0000\n",
            "Epoch 18/50\n",
            "62/62 [==============================] - 6s 100ms/step - loss: 0.0035 - accuracy: 1.0000 - val_loss: 0.0011 - val_accuracy: 1.0000\n",
            "Epoch 19/50\n",
            "62/62 [==============================] - 6s 102ms/step - loss: 0.0027 - accuracy: 1.0000 - val_loss: 0.0019 - val_accuracy: 1.0000\n",
            "Epoch 20/50\n",
            "62/62 [==============================] - 6s 103ms/step - loss: 0.0016 - accuracy: 1.0000 - val_loss: 0.0060 - val_accuracy: 1.0000\n",
            "Epoch 21/50\n",
            "62/62 [==============================] - 6s 103ms/step - loss: 0.0023 - accuracy: 1.0000 - val_loss: 0.0012 - val_accuracy: 1.0000\n",
            "Epoch 22/50\n",
            "62/62 [==============================] - 6s 102ms/step - loss: 0.0013 - accuracy: 1.0000 - val_loss: 0.0014 - val_accuracy: 1.0000\n",
            "Epoch 23/50\n",
            "62/62 [==============================] - 6s 102ms/step - loss: 4.3773e-04 - accuracy: 1.0000 - val_loss: 0.0018 - val_accuracy: 1.0000\n",
            "Epoch 24/50\n",
            "62/62 [==============================] - 6s 100ms/step - loss: 0.0028 - accuracy: 0.9980 - val_loss: 0.0026 - val_accuracy: 1.0000\n",
            "Epoch 25/50\n",
            "62/62 [==============================] - 6s 101ms/step - loss: 0.0014 - accuracy: 1.0000 - val_loss: 0.0021 - val_accuracy: 1.0000\n",
            "Epoch 26/50\n",
            "62/62 [==============================] - 6s 101ms/step - loss: 8.0896e-04 - accuracy: 1.0000 - val_loss: 0.0021 - val_accuracy: 1.0000\n",
            "Epoch 27/50\n",
            "62/62 [==============================] - 6s 100ms/step - loss: 4.6775e-04 - accuracy: 1.0000 - val_loss: 0.0016 - val_accuracy: 1.0000\n",
            "Epoch 28/50\n",
            "62/62 [==============================] - 6s 100ms/step - loss: 6.7887e-04 - accuracy: 1.0000 - val_loss: 0.0028 - val_accuracy: 1.0000\n",
            "Epoch 29/50\n",
            "62/62 [==============================] - 6s 100ms/step - loss: 4.5447e-04 - accuracy: 1.0000 - val_loss: 0.0017 - val_accuracy: 1.0000\n",
            "Epoch 30/50\n",
            "62/62 [==============================] - 6s 100ms/step - loss: 2.7358e-04 - accuracy: 1.0000 - val_loss: 0.0034 - val_accuracy: 1.0000\n",
            "Epoch 31/50\n",
            "62/62 [==============================] - 6s 100ms/step - loss: 1.4347e-04 - accuracy: 1.0000 - val_loss: 0.0043 - val_accuracy: 1.0000\n",
            "Epoch 32/50\n",
            "62/62 [==============================] - 6s 101ms/step - loss: 5.6684e-04 - accuracy: 1.0000 - val_loss: 7.6569e-04 - val_accuracy: 1.0000\n",
            "Epoch 33/50\n",
            "62/62 [==============================] - 6s 101ms/step - loss: 2.9110e-04 - accuracy: 1.0000 - val_loss: 0.0020 - val_accuracy: 1.0000\n",
            "Epoch 34/50\n",
            "62/62 [==============================] - 6s 100ms/step - loss: 1.9671e-04 - accuracy: 1.0000 - val_loss: 0.0033 - val_accuracy: 1.0000\n",
            "Epoch 35/50\n",
            "62/62 [==============================] - 6s 100ms/step - loss: 1.6536e-04 - accuracy: 1.0000 - val_loss: 0.0039 - val_accuracy: 1.0000\n",
            "Epoch 36/50\n",
            "62/62 [==============================] - 6s 100ms/step - loss: 7.1964e-04 - accuracy: 1.0000 - val_loss: 0.0015 - val_accuracy: 1.0000\n",
            "Epoch 37/50\n",
            "62/62 [==============================] - 6s 103ms/step - loss: 3.4333e-04 - accuracy: 1.0000 - val_loss: 0.0054 - val_accuracy: 1.0000\n",
            "Epoch 38/50\n",
            "62/62 [==============================] - 6s 100ms/step - loss: 2.6459e-04 - accuracy: 1.0000 - val_loss: 0.0058 - val_accuracy: 1.0000\n",
            "Epoch 39/50\n",
            "62/62 [==============================] - 6s 102ms/step - loss: 1.7006e-04 - accuracy: 1.0000 - val_loss: 0.0057 - val_accuracy: 1.0000\n",
            "Epoch 40/50\n",
            "62/62 [==============================] - 6s 100ms/step - loss: 2.1729e-04 - accuracy: 1.0000 - val_loss: 0.0082 - val_accuracy: 0.9919\n",
            "Epoch 41/50\n",
            "62/62 [==============================] - 6s 103ms/step - loss: 2.9762e-04 - accuracy: 1.0000 - val_loss: 0.0078 - val_accuracy: 0.9919\n",
            "Epoch 42/50\n",
            "62/62 [==============================] - 6s 100ms/step - loss: 1.5705e-04 - accuracy: 1.0000 - val_loss: 0.0059 - val_accuracy: 1.0000\n",
            "Epoch 43/50\n",
            "62/62 [==============================] - 6s 100ms/step - loss: 2.5549e-04 - accuracy: 1.0000 - val_loss: 0.0070 - val_accuracy: 1.0000\n",
            "Epoch 44/50\n",
            "62/62 [==============================] - 6s 100ms/step - loss: 8.8413e-05 - accuracy: 1.0000 - val_loss: 0.0058 - val_accuracy: 1.0000\n",
            "Epoch 45/50\n",
            "62/62 [==============================] - 6s 100ms/step - loss: 1.0195e-04 - accuracy: 1.0000 - val_loss: 0.0065 - val_accuracy: 1.0000\n",
            "Epoch 46/50\n",
            "62/62 [==============================] - 6s 102ms/step - loss: 1.1620e-04 - accuracy: 1.0000 - val_loss: 0.0076 - val_accuracy: 0.9919\n",
            "Epoch 47/50\n",
            "62/62 [==============================] - 6s 100ms/step - loss: 7.7820e-05 - accuracy: 1.0000 - val_loss: 0.0066 - val_accuracy: 1.0000\n",
            "Epoch 48/50\n",
            "62/62 [==============================] - 6s 100ms/step - loss: 1.1856e-04 - accuracy: 1.0000 - val_loss: 0.0062 - val_accuracy: 1.0000\n",
            "Epoch 49/50\n",
            "62/62 [==============================] - 6s 100ms/step - loss: 1.0952e-04 - accuracy: 1.0000 - val_loss: 0.0058 - val_accuracy: 1.0000\n",
            "Epoch 50/50\n",
            "62/62 [==============================] - 6s 100ms/step - loss: 1.7960e-04 - accuracy: 1.0000 - val_loss: 0.0097 - val_accuracy: 0.9919\n"
          ]
        },
        {
          "output_type": "stream",
          "name": "stderr",
          "text": [
            "WARNING:absl:Found untraced functions such as _jit_compiled_convolution_op, _jit_compiled_convolution_op, _jit_compiled_convolution_op, _jit_compiled_convolution_op, _jit_compiled_convolution_op while saving (showing 5 of 53). These functions will not be directly callable after loading.\n"
          ]
        }
      ]
    },
    {
      "cell_type": "code",
      "source": [
        "save_model = save_model + 'resnet50_v2.h5'\n",
        "model.save(save_model)"
      ],
      "metadata": {
        "id": "VbOnm7zxPpro"
      },
      "execution_count": null,
      "outputs": []
    },
    {
      "cell_type": "code",
      "source": [
        "# Evaluate model\n",
        "resnet50_v2_path='/content/drive/MyDrive/MLFPGA/MLFPGA_Proj/model_test/vgg19.h5'\n",
        "resnet50_v2_model = tf.keras.models.load_model(resnet50_v2_path)\n",
        "model_eval = resnet50_v2_model.evaluate(x_test, y_test)\n",
        "\n",
        "print(model_eval)"
      ],
      "metadata": {
        "colab": {
          "base_uri": "https://localhost:8080/"
        },
        "id": "3PeEapZwLZhm",
        "outputId": "d43ef250-70d0-4b35-ddf9-23e0a25e0a2a"
      },
      "execution_count": null,
      "outputs": [
        {
          "output_type": "stream",
          "name": "stderr",
          "text": [
            "/usr/local/lib/python3.7/dist-packages/tensorflow/python/util/dispatch.py:1082: UserWarning: \"`sparse_categorical_crossentropy` received `from_logits=True`, but the `output` argument was produced by a sigmoid or softmax activation and thus does not represent logits. Was this intended?\"\n",
            "  return dispatch_target(*args, **kwargs)\n"
          ]
        },
        {
          "output_type": "stream",
          "name": "stdout",
          "text": [
            "9/9 [==============================] - 7s 443ms/step - loss: 0.0638 - accuracy: 0.9928\n",
            "[0.06376947462558746, 0.9928057789802551]\n"
          ]
        }
      ]
    },
    {
      "cell_type": "code",
      "source": [
        "print(x_test.shape)"
      ],
      "metadata": {
        "colab": {
          "base_uri": "https://localhost:8080/"
        },
        "id": "29u8OfdDP7WD",
        "outputId": "65e3e110-853e-4537-8b85-a7cfb99251b1"
      },
      "execution_count": null,
      "outputs": [
        {
          "output_type": "stream",
          "name": "stdout",
          "text": [
            "(278, 224, 224, 3)\n"
          ]
        }
      ]
    },
    {
      "cell_type": "code",
      "source": [],
      "metadata": {
        "id": "pQpcirElQH94"
      },
      "execution_count": null,
      "outputs": []
    }
  ]
}